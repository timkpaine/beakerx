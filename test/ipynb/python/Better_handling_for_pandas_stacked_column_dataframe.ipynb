{
 "cells": [
  {
   "cell_type": "code",
   "execution_count": null,
   "metadata": {},
   "outputs": [],
   "source": [
    "import pandas as pd\n",
    "mini_df = pd.read_csv('../../resources/data/beakerxdata.csv')\n",
    "mini_df['downloads'] = pd.to_numeric(mini_df['downloads'])\n",
    "mini_df['time'] = pd.DatetimeIndex(mini_df['time']).to_period('M').to_timestamp(how='end')\n",
    "s = mini_df.groupby([pd.Grouper(key='time',freq='M'), 'package']).sum().reset_index()\n",
    "n = s[['time','package','downloads']].set_index(['time','package']).unstack('time')\n",
    "n"
   ]
  },
  {
   "cell_type": "code",
   "execution_count": null,
   "metadata": {},
   "outputs": [],
   "source": []
  }
 ],
 "metadata": {
  "kernelspec": {
   "display_name": "Python 3",
   "language": "python",
   "name": "python3"
  },
  "language_info": {
   "codemirror_mode": {
    "name": "ipython",
    "version": 3
   },
   "file_extension": ".py",
   "mimetype": "text/x-python",
   "name": "python",
   "nbconvert_exporter": "python",
   "pygments_lexer": "ipython3",
   "version": "3.6.6"
  },
  "toc": {
   "base_numbering": 1,
   "nav_menu": {},
   "number_sections": false,
   "sideBar": false,
   "skip_h1_title": false,
   "title_cell": "Table of Contents",
   "title_sidebar": "Contents",
   "toc_cell": false,
   "toc_position": {},
   "toc_section_display": false,
   "toc_window_display": false
  }
 },
 "nbformat": 4,
 "nbformat_minor": 2
}
